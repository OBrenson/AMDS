{
 "cells": [
  {
   "cell_type": "code",
   "execution_count": null,
   "metadata": {},
   "outputs": [],
   "source": [
    "!~/bin/everest.sh"
   ]
  },
  {
   "cell_type": "code",
   "execution_count": null,
   "metadata": {},
   "outputs": [],
   "source": [
    "!cp ~/everest_agent/everest_agent/agent.conf.default ~/everest_agent/conf/agent.conf; echo -n AGENTTOKEN > agent-token.txt"
   ]
  },
  {
   "cell_type": "code",
   "execution_count": null,
   "metadata": {},
   "outputs": [],
   "source": [
    "#include <cstdlib>\n",
    "#include <iostream>\n",
    "#include <fstream>\n",
    "#include <string>\n",
    "using namespace std;\n",
    "{\n",
    "    string old_token = \"AGENTTOKEN\";\n",
    "    {ifstream file(\"agent-token.txt\"); if(file) file >> old_token;} \n",
    "    cout << \"Please enter the Everest agent Token:\" << endl;\n",
    "    string new_token; cin >> new_token;\n",
    "    ofstream file(\"agent-token.txt\"); file << new_token;\n",
    "    string sed_command = \"sed -i -e 's=\"+old_token+\"=\"+new_token+\"=' ~/everest_agent/conf/agent.conf\";\n",
    "    system(sed_command.c_str());\n",
    "    cout << \"Please enter the Everest agent ID:\" << endl;\n",
    "    string agent_ID; cin >> agent_ID;\n",
    "    ofstream idfile(\"agent-ID.txt\"); idfile << agent_ID;\n",
    " }\n",
    "\n",
    "// Please enter the Everest agent Token:\n",
    "//  2e8a3hbcr4sz21c10ukoane2xzijgkqc\n",
    "// Please enter the Everest agent ID:\n",
    "//  644b500f14000083cc25b2e6"
   ]
  },
  {
   "cell_type": "code",
   "execution_count": null,
   "metadata": {},
   "outputs": [],
   "source": [
    "#include <cstdlib>\n",
    "#include <fstream>\n",
    "#include <iostream>\n",
    "using namespace std;\n",
    "{ifstream file(\"../../everest_agent/agent.pid\"); if(file){cout << \"Everest agent is already running, please stop it first.\";return;}}\n",
    "system(\"~/everest_agent/bin/start.sh -c ~/everest_agent/conf/agent.conf\");\n",
    "{ifstream file(\"../../everest_agent/agent.pid\"); if(file){cout << \"Everest agent is running.\";}}"
   ]
  },
  {
   "cell_type": "code",
   "execution_count": null,
   "metadata": {},
   "outputs": [],
   "source": [
    "!g++ eversetvar8.cpp -l curl -I ~/lib -I ~/lib/opt -o eversetvar8"
   ]
  },
  {
   "cell_type": "code",
   "execution_count": null,
   "metadata": {},
   "outputs": [],
   "source": [
    "!./eversetvar8"
   ]
  },
  {
   "cell_type": "code",
   "execution_count": null,
   "metadata": {},
   "outputs": [],
   "source": [
    "!g++ calculation.cpp -l curl -I ~/lib -I ~/lib/opt -o calculation"
   ]
  },
  {
   "cell_type": "code",
   "execution_count": null,
   "metadata": {},
   "outputs": [],
   "source": [
    "!./calculation \"0,1,1,2,2,3,3,4;\" 3"
   ]
  }
 ],
 "metadata": {
  "language_info": {
   "name": "python"
  },
  "orig_nbformat": 4
 },
 "nbformat": 4,
 "nbformat_minor": 2
}
